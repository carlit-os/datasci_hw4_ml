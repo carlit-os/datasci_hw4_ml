{
 "cells": [
  {
   "cell_type": "markdown",
   "metadata": {},
   "source": [
    "## Imports"
   ]
  },
  {
   "cell_type": "code",
   "source": [
    "import sklearn\n",
    "from sklearn import datasets\n",
    "from sklearn.ensemble import GradientBoostingRegressor\n",
    "import pandas as pd\n",
    "from sklearn.svm import SVR\n",
    "from sklearn.model_selection import GridSearchCV\n",
    "from sklearn.model_selection import cross_val_score"
   ],
   "metadata": {
    "collapsed": false,
    "pycharm": {
     "name": "#%%\n"
    }
   },
   "execution_count": 1,
   "outputs": []
  },
  {
   "cell_type": "markdown",
   "source": [
    "## Obtain the data"
   ],
   "metadata": {
    "collapsed": false,
    "pycharm": {
     "name": "#%% md\n"
    }
   }
  },
  {
   "cell_type": "code",
   "execution_count": 2,
   "metadata": {},
   "outputs": [],
   "source": [
    "cal = datasets.fetch_california_housing()\n",
    "cal_data=cal.data.astype(int)\n",
    "cal_target=cal.target.astype(int)"
   ]
  },
  {
   "cell_type": "markdown",
   "metadata": {},
   "source": [
    "## Task 1. Regression. (3%)"
   ]
  },
  {
   "cell_type": "markdown",
   "metadata": {},
   "source": [
    "### Task 1.a Linear model vs. GBT model"
   ]
  },
  {
   "cell_type": "code",
   "execution_count": 4,
   "metadata": {},
   "outputs": [
    {
     "data": {
      "text/plain": "\"\\nsvm_model = SVR(kernel='linear')\\n#linreg_performance = cross_val(5,cal.data,cal.train,svm_model)\\n\""
     },
     "execution_count": 4,
     "metadata": {},
     "output_type": "execute_result"
    }
   ],
   "source": [
    "##cross validation k=5\n",
    "##break data into 5 pieces and average performance across these\n",
    "\n",
    "##.fit(trainingvalues,target values)\n",
    "\n",
    "'''\n",
    "def cross_val(folds,train,target,reg):\n",
    "    ## assumes train and target are arrays with same num rows\n",
    "    ## collects model scores and returns averages over folds\n",
    "\n",
    "    step = int(len(train)/folds)\n",
    "    end = step\n",
    "    start = 0\n",
    "    total = 0\n",
    "\n",
    "    for partition in range(folds):\n",
    "        reg.fit(train[start:end],target[start:end])\n",
    "        total += reg.score(train[start:end],target[start:end])\n",
    "\n",
    "        #update range\n",
    "        start = end\n",
    "        end = end + step\n",
    "\n",
    "    return total/folds\n",
    "'''\n",
    "\n",
    "'''\n",
    "svm_model = SVR(kernel='linear')\n",
    "#linreg_performance = cross_val(5,cal.data,cal.train,svm_model)\n",
    "'''\n",
    "#lin_model = sklearn.linear_model.LinearRegression().fit(cal.data,cal.target)\n",
    "#cross_val(5,cal.data,cal.target,sklearn.linear_model.LinearRegression())"
   ]
  },
  {
   "cell_type": "code",
   "execution_count": 5,
   "outputs": [
    {
     "name": "stdout",
     "output_type": "stream",
     "text": [
      "With a linear regression model, 47.06% of the data fit the model\n",
      "\n",
      "\n",
      "With a gradient boosting tree regression model, 49.07% of the data fit the model\n"
     ]
    }
   ],
   "source": [
    "\n",
    "linreg = sklearn.linear_model.LinearRegression()\n",
    "##fit on the first half of the data\n",
    "\n",
    "half = len(cal_data)//2\n",
    "quarter = len(cal_data)//4\n",
    "threeq = quarter*3\n",
    "\n",
    "\n",
    "linreg.fit(cal_data[:threeq],cal_target[:threeq])\n",
    "\n",
    "##score on the second half, use r2 scoring for regression\n",
    "linear_performance = cross_val_score(linreg,cal_data[threeq:],cal_target[threeq:], cv=5, scoring='r2').mean()\n",
    "\n",
    "\n",
    "print(\"With a linear regression model, %.2f%% of the data fit the model\"%(linear_performance*100))\n",
    "\n",
    "print(\"\")\n",
    "print(\"\")\n",
    "\n",
    "gbtreg = GradientBoostingRegressor()\n",
    "gbtreg.fit(cal_data[:threeq],cal_target[:threeq])\n",
    "gbt_performance = cross_val_score(gbtreg,cal_data[threeq:],cal_target[threeq:], cv=5, scoring='r2').mean()\n",
    "\n",
    "print(\"With a gradient boosting tree regression model, %.2f%% of the data fit the model\"%(gbt_performance*100))"
   ],
   "metadata": {
    "collapsed": false,
    "pycharm": {
     "name": "#%%\n"
    }
   }
  },
  {
   "cell_type": "markdown",
   "metadata": {},
   "source": [
    "### Task 1.b Search for better parameters in GBT model"
   ]
  },
  {
   "cell_type": "code",
   "execution_count": 6,
   "outputs": [
    {
     "name": "stdout",
     "output_type": "stream",
     "text": [
      "Loss funcitons\n",
      "lad 41.362955921305954\n",
      "huber 39.588201305165796\n",
      "quantile -39.700995382726944\n"
     ]
    }
   ],
   "source": [
    "##Loss functions\n",
    "print(\"Loss funcitons\")\n",
    "gbtreg = GradientBoostingRegressor(loss='lad')\n",
    "gbtreg.fit(cal_data[:threeq],cal_target[:threeq])\n",
    "gbt_performance = cross_val_score(gbtreg,cal_data[threeq:],cal_target[threeq:], cv=5, scoring='r2').mean()\n",
    "print(\"lad\",gbt_performance*100)\n",
    "\n",
    "gbtreg = GradientBoostingRegressor(loss='huber')\n",
    "gbtreg.fit(cal_data[:threeq],cal_target[:threeq])\n",
    "gbt_performance = cross_val_score(gbtreg,cal_data[threeq:],cal_target[threeq:], cv=5, scoring='r2').mean()\n",
    "print(\"huber\",gbt_performance*100)\n",
    "\n",
    "gbtreg = GradientBoostingRegressor(loss='quantile')\n",
    "gbtreg.fit(cal_data[:threeq],cal_target[:threeq])\n",
    "gbt_performance = cross_val_score(gbtreg,cal_data[threeq:],cal_target[threeq:], cv=5, scoring='r2').mean()\n",
    "print(\"quantile\",gbt_performance*100)"
   ],
   "metadata": {
    "collapsed": false,
    "pycharm": {
     "name": "#%%\n"
    }
   }
  },
  {
   "cell_type": "code",
   "execution_count": null,
   "outputs": [
    {
     "name": "stdout",
     "output_type": "stream",
     "text": [
      "\n"
     ]
    }
   ],
   "source": [
    "\n",
    "print(\"\")\n",
    "parameters={'learning_rate':[.1,.01,.05,.15],'max_depth':[2,3,4,5],'n_estimators':[50,80,100,200]}\n",
    "gs_model=GridSearchCV(GradientBoostingRegressor(),parameters,scoring=\"r2\",cv=5)\n",
    "gs_model.fit(cal_data,cal_target)\n",
    "print(\"\")\n",
    "print(gs_model.cv_results_)\n",
    "print(\"\")\n",
    "print(\"\")\n",
    "print(gs_model.best_score_)\n",
    "print(\"\")\n",
    "print(gs_model.best_params_)\n"
   ],
   "metadata": {
    "collapsed": false,
    "pycharm": {
     "name": "#%%\n",
     "is_executing": true
    }
   }
  },
  {
   "cell_type": "markdown",
   "metadata": {},
   "source": [
    "### Task 1.c "
   ]
  },
  {
   "cell_type": "code",
   "execution_count": 3,
   "metadata": {},
   "outputs": [],
   "source": []
  },
  {
   "cell_type": "markdown",
   "metadata": {},
   "source": [
    "## Task 2. Classification. (3%)"
   ]
  },
  {
   "cell_type": "code",
   "execution_count": 3,
   "metadata": {},
   "outputs": [],
   "source": []
  },
  {
   "cell_type": "markdown",
   "metadata": {},
   "source": [
    "### Task 2.a Logistic regression vs. GBT"
   ]
  },
  {
   "cell_type": "code",
   "execution_count": 3,
   "metadata": {},
   "outputs": [],
   "source": []
  },
  {
   "cell_type": "markdown",
   "metadata": {},
   "source": [
    "### Task 2.b Search for optimal parameters in GBT model"
   ]
  },
  {
   "cell_type": "code",
   "execution_count": 3,
   "metadata": {},
   "outputs": [],
   "source": []
  },
  {
   "cell_type": "markdown",
   "metadata": {},
   "source": [
    "### Task 2.c SVM"
   ]
  },
  {
   "cell_type": "code",
   "execution_count": 3,
   "metadata": {},
   "outputs": [],
   "source": []
  }
 ],
 "metadata": {
  "kernelspec": {
   "display_name": "Python 3",
   "language": "python",
   "name": "python3"
  },
  "language_info": {
   "codemirror_mode": {
    "name": "ipython",
    "version": 3
   },
   "file_extension": ".py",
   "mimetype": "text/x-python",
   "name": "python",
   "nbconvert_exporter": "python",
   "pygments_lexer": "ipython3",
   "version": "3.8.5"
  }
 },
 "nbformat": 4,
 "nbformat_minor": 4
}