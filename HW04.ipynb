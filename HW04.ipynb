{
 "cells": [
  {
   "cell_type": "markdown",
   "metadata": {},
   "source": [
    "## Imports"
   ]
  },
  {
   "cell_type": "code",
   "source": [
    "import sklearn\n",
    "from sklearn import datasets\n",
    "import pandas as pd\n",
    "from sklearn.svm import SVR"
   ],
   "metadata": {
    "collapsed": false,
    "pycharm": {
     "name": "#%%\n"
    }
   },
   "execution_count": 13,
   "outputs": []
  },
  {
   "cell_type": "markdown",
   "source": [
    "## Obtain the data"
   ],
   "metadata": {
    "collapsed": false,
    "pycharm": {
     "name": "#%% md\n"
    }
   }
  },
  {
   "cell_type": "code",
   "execution_count": 1,
   "metadata": {},
   "outputs": [],
   "source": [
    "cal = datasets.fetch_california_housing()\n"
   ]
  },
  {
   "cell_type": "markdown",
   "metadata": {},
   "source": [
    "## Task 1. Regression. (3%)"
   ]
  },
  {
   "cell_type": "markdown",
   "metadata": {},
   "source": [
    "### Task 1.a Linear model vs. GBT model"
   ]
  },
  {
   "cell_type": "code",
   "execution_count": 35,
   "metadata": {},
   "outputs": [
    {
     "name": "stdout",
     "output_type": "stream",
     "text": [
      "20640 rows in cal.data \n",
      "hey\n",
      "hey\n",
      "hey\n",
      "hey\n",
      "hey\n",
      "[[ 8.32520000e+00  4.10000000e+01  6.98412698e+00  1.02380952e+00\n",
      "   3.22000000e+02  2.55555556e+00  3.78800000e+01 -1.22230000e+02]\n",
      " [ 8.30140000e+00  2.10000000e+01  6.23813708e+00  9.71880492e-01\n",
      "   2.40100000e+03  2.10984183e+00  3.78600000e+01 -1.22220000e+02]\n",
      " [ 7.25740000e+00  5.20000000e+01  8.28813559e+00  1.07344633e+00\n",
      "   4.96000000e+02  2.80225989e+00  3.78500000e+01 -1.22240000e+02]]\n",
      " \n",
      "[[   5.6431       52.            5.8173516     1.07305936  558.\n",
      "     2.54794521   37.85       -122.25      ]\n",
      " [   3.8462       52.            6.28185328    1.08108108  565.\n",
      "     2.18146718   37.85       -122.25      ]\n",
      " [   4.0368       52.            4.76165803    1.10362694  413.\n",
      "     2.13989637   37.85       -122.25      ]]\n",
      " \n",
      " \n",
      "['h', 'e']\n",
      "['l', 'l']\n",
      "['o', '.']\n"
     ]
    }
   ],
   "source": [
    "##cross validation k=5\n",
    "##break data into 5 pieces and average performance across these\n",
    "\n",
    "##.fit(trainingvalues,target values)\n",
    "\n",
    "\n",
    "def cross_val(folds,train,target,reg):\n",
    "    ## assumes train and target are arrays with same num rows\n",
    "    ## collects model scores and returns averages over folds\n",
    "\n",
    "    step = len(train)/folds\n",
    "    start = 0\n",
    "    total = 0\n",
    "    for partition in range(folds):\n",
    "        reg.fit(train[start:step],target[start:step])\n",
    "        total += reg.score(train[start:step],target[start:step])\n",
    "\n",
    "        #update range\n",
    "        start = step\n",
    "        step = step + step\n",
    "\n",
    "    return total/folds\n",
    "\n",
    "\n",
    "\n",
    "print(\"%.0f rows in cal.data \"%len(cal.data))\n",
    "\n",
    "svm_model = SVR(kernel='linear')\n",
    "linreg_performance = cross_val(5,cal.data,cal.train,svm_model)\n",
    "\n",
    "\n",
    "\n",
    "'''\n",
    "svm_model.fit(cal.data[0:20],cal.target[0:20])\n",
    "print(svm_model.score(cal.data[0:20],cal.target[0:20]))\n",
    "svm_model.fit(cal.data[0:30],cal.target[0:30])\n",
    "print(svm_model.score(cal.data[0:30],cal.target[0:30]))\n",
    "'''\n",
    "'''\n",
    "for num in range(5):\n",
    "    print(\"hey\")\n",
    "\n",
    "print(cal.data[0:3])\n",
    "print(\" \")\n",
    "print(cal.data[3:6])\n",
    "\n",
    "print(\" \")\n",
    "print(\" \")\n",
    "samp = [\"h\",\"e\",\"l\",\"l\",\"o\",\".\"]\n",
    "print(samp[0:2])\n",
    "print(samp[2:4])\n",
    "print(samp[4:6])\n",
    "'''\n",
    "\n",
    "\n"
   ]
  },
  {
   "cell_type": "markdown",
   "metadata": {},
   "source": [
    "### Task 1.b Search for better parameters in GBT model"
   ]
  },
  {
   "cell_type": "code",
   "execution_count": 1,
   "metadata": {},
   "outputs": [],
   "source": []
  },
  {
   "cell_type": "markdown",
   "metadata": {},
   "source": [
    "### Task 1.c "
   ]
  },
  {
   "cell_type": "code",
   "execution_count": 1,
   "metadata": {},
   "outputs": [],
   "source": []
  },
  {
   "cell_type": "markdown",
   "metadata": {},
   "source": [
    "## Task 2. Classification. (3%)"
   ]
  },
  {
   "cell_type": "code",
   "execution_count": 1,
   "metadata": {},
   "outputs": [],
   "source": []
  },
  {
   "cell_type": "markdown",
   "metadata": {},
   "source": [
    "### Task 2.a Logistic regression vs. GBT"
   ]
  },
  {
   "cell_type": "code",
   "execution_count": 1,
   "metadata": {},
   "outputs": [],
   "source": []
  },
  {
   "cell_type": "markdown",
   "metadata": {},
   "source": [
    "### Task 2.b Search for optimal parameters in GBT model"
   ]
  },
  {
   "cell_type": "code",
   "execution_count": 1,
   "metadata": {},
   "outputs": [],
   "source": []
  },
  {
   "cell_type": "markdown",
   "metadata": {},
   "source": [
    "### Task 2.c SVM"
   ]
  },
  {
   "cell_type": "code",
   "execution_count": 1,
   "metadata": {},
   "outputs": [],
   "source": []
  }
 ],
 "metadata": {
  "kernelspec": {
   "display_name": "Python 3",
   "language": "python",
   "name": "python3"
  },
  "language_info": {
   "codemirror_mode": {
    "name": "ipython",
    "version": 3
   },
   "file_extension": ".py",
   "mimetype": "text/x-python",
   "name": "python",
   "nbconvert_exporter": "python",
   "pygments_lexer": "ipython3",
   "version": "3.8.5"
  }
 },
 "nbformat": 4,
 "nbformat_minor": 4
}