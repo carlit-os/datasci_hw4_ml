{
 "cells": [
  {
   "cell_type": "markdown",
   "metadata": {},
   "source": [
    "## Imports"
   ]
  },
  {
   "cell_type": "code",
   "source": [
    "import sklearn\n",
    "from sklearn import datasets\n",
    "from sklearn.ensemble import GradientBoostingRegressor\n",
    "import pandas as pd\n",
    "from sklearn.svm import SVR\n",
    "from sklearn.model_selection import GridSearchCV\n",
    "from sklearn.model_selection import cross_val_score"
   ],
   "metadata": {
    "collapsed": false,
    "pycharm": {
     "name": "#%%\n"
    }
   },
   "execution_count": 3,
   "outputs": []
  },
  {
   "cell_type": "markdown",
   "source": [
    "## Obtain the data"
   ],
   "metadata": {
    "collapsed": false,
    "pycharm": {
     "name": "#%% md\n"
    }
   }
  },
  {
   "cell_type": "code",
   "execution_count": 5,
   "metadata": {},
   "outputs": [],
   "source": [
    "cal = datasets.fetch_california_housing()\n",
    "cal_data=cal.data.astype(int)\n",
    "cal_target=cal.target.astype(int)"
   ]
  },
  {
   "cell_type": "markdown",
   "metadata": {},
   "source": [
    "## Task 1. Regression. (3%)"
   ]
  },
  {
   "cell_type": "markdown",
   "metadata": {},
   "source": [
    "### Task 1.a Linear model vs. GBT model"
   ]
  },
  {
   "cell_type": "code",
   "execution_count": 10,
   "metadata": {},
   "outputs": [
    {
     "name": "stdout",
     "output_type": "stream",
     "text": [
      "[-0.36620123 -1.64201638  0.41607942  0.65511918 -0.24064517]\n"
     ]
    }
   ],
   "source": [
    "##cross validation k=5\n",
    "##break data into 5 pieces and average performance across these\n",
    "\n",
    "##.fit(trainingvalues,target values)\n",
    "\n",
    "\n",
    "def cross_val(folds,train,target,reg):\n",
    "    ## assumes train and target are arrays with same num rows\n",
    "    ## collects model scores and returns averages over folds\n",
    "\n",
    "    step = int(len(train)/folds)\n",
    "    end = step\n",
    "    start = 0\n",
    "    total = 0\n",
    "\n",
    "    for partition in range(folds):\n",
    "        reg.fit(train[start:end],target[start:end])\n",
    "        total += reg.score(train[start:end],target[start:end])\n",
    "\n",
    "        #update range\n",
    "        start = end\n",
    "        end = end + step\n",
    "\n",
    "    return total/folds\n",
    "\n",
    "\n",
    "\n",
    "#print(\"%.0f rows in cal.data \"%len(cal.data))\n",
    "\n",
    "'''\n",
    "svm_model = SVR(kernel='linear')\n",
    "#linreg_performance = cross_val(5,cal.data,cal.train,svm_model)\n",
    "'''\n",
    "#lin_model = sklearn.linear_model.LinearRegression().fit(cal.data,cal.target)\n",
    "\n",
    "linreg = sklearn.linear_model.LinearRegression()\n",
    "##fit on the first half of the data\n",
    "\n",
    "\n",
    "\n",
    "linreg.fit(cal_data[:100],cal_target[:100])\n",
    "\n",
    "##score on the second half, use r2 scoring for regression\n",
    "print(cross_val_score(linreg,cal_data[100:200],cal_target[100:200], cv=5, scoring='r2'))\n",
    "\n",
    "#cross_val(5,cal.data,cal.target,sklearn.linear_model.LinearRegression())\n",
    "#print(\"With a linear regression model, %.2f%% of the data fit the model\"%(linreg_performance*100))\n",
    "\n",
    "\n",
    "#print(\"\")\n",
    "#gradient_performance = cross_val(5,cal.data,cal.target,GradientBoostingRegressor())\n",
    "#print(\"With a gradient regression model, %.2f%% of the data fit the model\"%(gradient_performance*100))"
   ]
  },
  {
   "cell_type": "markdown",
   "metadata": {},
   "source": [
    "### Task 1.b Search for better parameters in GBT model"
   ]
  },
  {
   "cell_type": "code",
   "execution_count": 33,
   "metadata": {},
   "outputs": [
    {
     "name": "stdout",
     "output_type": "stream",
     "text": [
      "{'alpha': 0.9, 'ccp_alpha': 0.0, 'criterion': 'friedman_mse', 'init': None, 'learning_rate': 0.1, 'loss': 'ls', 'max_depth': 3, 'max_features': None, 'max_leaf_nodes': None, 'min_impurity_decrease': 0.0, 'min_impurity_split': None, 'min_samples_leaf': 1, 'min_samples_split': 2, 'min_weight_fraction_leaf': 0.0, 'n_estimators': 100, 'n_iter_no_change': None, 'random_state': None, 'subsample': 1.0, 'tol': 0.0001, 'validation_fraction': 0.1, 'verbose': 0, 'warm_start': False}\n",
      "\n",
      "{'mean_fit_time': array([9.08504553]), 'std_fit_time': array([0.50007183]), 'mean_score_time': array([0.02289982]), 'std_score_time': array([0.02812003]), 'param_learning_rate': masked_array(data=[0.1],\n",
      "             mask=[False],\n",
      "       fill_value='?',\n",
      "            dtype=object), 'param_max_depth': masked_array(data=[5],\n",
      "             mask=[False],\n",
      "       fill_value='?',\n",
      "            dtype=object), 'param_max_leaf_nodes': masked_array(data=[6],\n",
      "             mask=[False],\n",
      "       fill_value='?',\n",
      "            dtype=object), 'param_n_estimators': masked_array(data=[100],\n",
      "             mask=[False],\n",
      "       fill_value='?',\n",
      "            dtype=object), 'params': [{'learning_rate': 0.1, 'max_depth': 5, 'max_leaf_nodes': 6, 'n_estimators': 100}], 'split0_test_score': array([nan]), 'split1_test_score': array([nan]), 'split2_test_score': array([nan]), 'split3_test_score': array([nan]), 'split4_test_score': array([nan]), 'mean_test_score': array([nan]), 'std_test_score': array([nan]), 'rank_test_score': array([1], dtype=int32)}\n",
      "\n",
      "nan\n",
      "\n",
      "{'learning_rate': 0.1, 'max_depth': 5, 'max_leaf_nodes': 6, 'n_estimators': 100}\n"
     ]
    },
    {
     "name": "stderr",
     "output_type": "stream",
     "text": [
      "/Library/Python/3.7/site-packages/sklearn/model_selection/_validation.py:687: UserWarning: Scoring failed. The score on this train-test partition for these parameters will be set to nan. Details: \n",
      "Traceback (most recent call last):\n",
      "  File \"/Library/Python/3.7/site-packages/sklearn/model_selection/_validation.py\", line 674, in _score\n",
      "    scores = scorer(estimator, X_test, y_test)\n",
      "  File \"/Library/Python/3.7/site-packages/sklearn/metrics/_scorer.py\", line 200, in __call__\n",
      "    sample_weight=sample_weight)\n",
      "  File \"/Library/Python/3.7/site-packages/sklearn/metrics/_scorer.py\", line 243, in _score\n",
      "    **self._kwargs)\n",
      "  File \"/Library/Python/3.7/site-packages/sklearn/utils/validation.py\", line 63, in inner_f\n",
      "    return f(*args, **kwargs)\n",
      "  File \"/Library/Python/3.7/site-packages/sklearn/metrics/_classification.py\", line 202, in accuracy_score\n",
      "    y_type, y_true, y_pred = _check_targets(y_true, y_pred)\n",
      "  File \"/Library/Python/3.7/site-packages/sklearn/metrics/_classification.py\", line 100, in _check_targets\n",
      "    raise ValueError(\"{0} is not supported\".format(y_type))\n",
      "ValueError: continuous is not supported\n",
      "\n",
      "  UserWarning,\n",
      "/Library/Python/3.7/site-packages/sklearn/model_selection/_validation.py:687: UserWarning: Scoring failed. The score on this train-test partition for these parameters will be set to nan. Details: \n",
      "Traceback (most recent call last):\n",
      "  File \"/Library/Python/3.7/site-packages/sklearn/model_selection/_validation.py\", line 674, in _score\n",
      "    scores = scorer(estimator, X_test, y_test)\n",
      "  File \"/Library/Python/3.7/site-packages/sklearn/metrics/_scorer.py\", line 200, in __call__\n",
      "    sample_weight=sample_weight)\n",
      "  File \"/Library/Python/3.7/site-packages/sklearn/metrics/_scorer.py\", line 243, in _score\n",
      "    **self._kwargs)\n",
      "  File \"/Library/Python/3.7/site-packages/sklearn/utils/validation.py\", line 63, in inner_f\n",
      "    return f(*args, **kwargs)\n",
      "  File \"/Library/Python/3.7/site-packages/sklearn/metrics/_classification.py\", line 202, in accuracy_score\n",
      "    y_type, y_true, y_pred = _check_targets(y_true, y_pred)\n",
      "  File \"/Library/Python/3.7/site-packages/sklearn/metrics/_classification.py\", line 100, in _check_targets\n",
      "    raise ValueError(\"{0} is not supported\".format(y_type))\n",
      "ValueError: continuous is not supported\n",
      "\n",
      "  UserWarning,\n",
      "/Library/Python/3.7/site-packages/sklearn/model_selection/_validation.py:687: UserWarning: Scoring failed. The score on this train-test partition for these parameters will be set to nan. Details: \n",
      "Traceback (most recent call last):\n",
      "  File \"/Library/Python/3.7/site-packages/sklearn/model_selection/_validation.py\", line 674, in _score\n",
      "    scores = scorer(estimator, X_test, y_test)\n",
      "  File \"/Library/Python/3.7/site-packages/sklearn/metrics/_scorer.py\", line 200, in __call__\n",
      "    sample_weight=sample_weight)\n",
      "  File \"/Library/Python/3.7/site-packages/sklearn/metrics/_scorer.py\", line 243, in _score\n",
      "    **self._kwargs)\n",
      "  File \"/Library/Python/3.7/site-packages/sklearn/utils/validation.py\", line 63, in inner_f\n",
      "    return f(*args, **kwargs)\n",
      "  File \"/Library/Python/3.7/site-packages/sklearn/metrics/_classification.py\", line 202, in accuracy_score\n",
      "    y_type, y_true, y_pred = _check_targets(y_true, y_pred)\n",
      "  File \"/Library/Python/3.7/site-packages/sklearn/metrics/_classification.py\", line 100, in _check_targets\n",
      "    raise ValueError(\"{0} is not supported\".format(y_type))\n",
      "ValueError: continuous is not supported\n",
      "\n",
      "  UserWarning,\n",
      "/Library/Python/3.7/site-packages/sklearn/model_selection/_validation.py:687: UserWarning: Scoring failed. The score on this train-test partition for these parameters will be set to nan. Details: \n",
      "Traceback (most recent call last):\n",
      "  File \"/Library/Python/3.7/site-packages/sklearn/model_selection/_validation.py\", line 674, in _score\n",
      "    scores = scorer(estimator, X_test, y_test)\n",
      "  File \"/Library/Python/3.7/site-packages/sklearn/metrics/_scorer.py\", line 200, in __call__\n",
      "    sample_weight=sample_weight)\n",
      "  File \"/Library/Python/3.7/site-packages/sklearn/metrics/_scorer.py\", line 243, in _score\n",
      "    **self._kwargs)\n",
      "  File \"/Library/Python/3.7/site-packages/sklearn/utils/validation.py\", line 63, in inner_f\n",
      "    return f(*args, **kwargs)\n",
      "  File \"/Library/Python/3.7/site-packages/sklearn/metrics/_classification.py\", line 202, in accuracy_score\n",
      "    y_type, y_true, y_pred = _check_targets(y_true, y_pred)\n",
      "  File \"/Library/Python/3.7/site-packages/sklearn/metrics/_classification.py\", line 100, in _check_targets\n",
      "    raise ValueError(\"{0} is not supported\".format(y_type))\n",
      "ValueError: continuous is not supported\n",
      "\n",
      "  UserWarning,\n",
      "/Library/Python/3.7/site-packages/sklearn/model_selection/_validation.py:687: UserWarning: Scoring failed. The score on this train-test partition for these parameters will be set to nan. Details: \n",
      "Traceback (most recent call last):\n",
      "  File \"/Library/Python/3.7/site-packages/sklearn/model_selection/_validation.py\", line 674, in _score\n",
      "    scores = scorer(estimator, X_test, y_test)\n",
      "  File \"/Library/Python/3.7/site-packages/sklearn/metrics/_scorer.py\", line 200, in __call__\n",
      "    sample_weight=sample_weight)\n",
      "  File \"/Library/Python/3.7/site-packages/sklearn/metrics/_scorer.py\", line 243, in _score\n",
      "    **self._kwargs)\n",
      "  File \"/Library/Python/3.7/site-packages/sklearn/utils/validation.py\", line 63, in inner_f\n",
      "    return f(*args, **kwargs)\n",
      "  File \"/Library/Python/3.7/site-packages/sklearn/metrics/_classification.py\", line 202, in accuracy_score\n",
      "    y_type, y_true, y_pred = _check_targets(y_true, y_pred)\n",
      "  File \"/Library/Python/3.7/site-packages/sklearn/metrics/_classification.py\", line 100, in _check_targets\n",
      "    raise ValueError(\"{0} is not supported\".format(y_type))\n",
      "ValueError: continuous is not supported\n",
      "\n",
      "  UserWarning,\n",
      "/Library/Python/3.7/site-packages/sklearn/model_selection/_search.py:921: UserWarning: One or more of the test scores are non-finite: [nan]\n",
      "  category=UserWarning\n"
     ]
    }
   ],
   "source": [
    "print(GradientBoostingRegressor().get_params())\n",
    "\n",
    "parameters={'learning_rate':[0.1],'n_estimators':[100],'max_depth':[5],'max_leaf_nodes':[6]}\n",
    "gs_model = GridSearchCV(GradientBoostingRegressor(),parameters,scoring='accuracy',cv=5)\n",
    "gs_model.fit(cal.data,cal.target)\n",
    "print(\"\")\n",
    "print(gs_model.cv_results_)\n",
    "print(\"\")\n",
    "print(gs_model.best_score_)\n",
    "print(\"\")\n",
    "print(gs_model.best_params_)"
   ]
  },
  {
   "cell_type": "markdown",
   "metadata": {},
   "source": [
    "### Task 1.c "
   ]
  },
  {
   "cell_type": "code",
   "execution_count": 3,
   "metadata": {},
   "outputs": [],
   "source": []
  },
  {
   "cell_type": "markdown",
   "metadata": {},
   "source": [
    "## Task 2. Classification. (3%)"
   ]
  },
  {
   "cell_type": "code",
   "execution_count": 3,
   "metadata": {},
   "outputs": [],
   "source": []
  },
  {
   "cell_type": "markdown",
   "metadata": {},
   "source": [
    "### Task 2.a Logistic regression vs. GBT"
   ]
  },
  {
   "cell_type": "code",
   "execution_count": 3,
   "metadata": {},
   "outputs": [],
   "source": []
  },
  {
   "cell_type": "markdown",
   "metadata": {},
   "source": [
    "### Task 2.b Search for optimal parameters in GBT model"
   ]
  },
  {
   "cell_type": "code",
   "execution_count": 3,
   "metadata": {},
   "outputs": [],
   "source": []
  },
  {
   "cell_type": "markdown",
   "metadata": {},
   "source": [
    "### Task 2.c SVM"
   ]
  },
  {
   "cell_type": "code",
   "execution_count": 3,
   "metadata": {},
   "outputs": [],
   "source": []
  }
 ],
 "metadata": {
  "kernelspec": {
   "display_name": "Python 3",
   "language": "python",
   "name": "python3"
  },
  "language_info": {
   "codemirror_mode": {
    "name": "ipython",
    "version": 3
   },
   "file_extension": ".py",
   "mimetype": "text/x-python",
   "name": "python",
   "nbconvert_exporter": "python",
   "pygments_lexer": "ipython3",
   "version": "3.8.5"
  }
 },
 "nbformat": 4,
 "nbformat_minor": 4
}