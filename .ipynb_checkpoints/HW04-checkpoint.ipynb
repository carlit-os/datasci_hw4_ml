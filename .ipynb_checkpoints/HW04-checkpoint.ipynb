{
 "cells": [
  {
   "cell_type": "markdown",
   "metadata": {},
   "source": [
    "## Imports"
   ]
  },
  {
   "cell_type": "code",
   "execution_count": 1,
   "metadata": {
    "pycharm": {
     "name": "#%%\n"
    }
   },
   "outputs": [],
   "source": [
    "import sklearn\n",
    "from sklearn import datasets\n",
    "from sklearn.ensemble import GradientBoostingRegressor\n",
    "import pandas as pd\n",
    "from sklearn.svm import SVC\n",
    "from sklearn.linear_model import LogisticRegression\n",
    "from sklearn.model_selection import GridSearchCV\n",
    "from sklearn.model_selection import cross_val_score\n",
    "from sklearn.ensemble import GradientBoostingClassifier\n",
    "from sklearn.preprocessing import binarize\n",
    "from sklearn.svm import LinearSVC"
   ]
  },
  {
   "cell_type": "markdown",
   "metadata": {
    "pycharm": {
     "name": "#%% md\n"
    }
   },
   "source": [
    "## Obtain the data"
   ]
  },
  {
   "cell_type": "code",
   "execution_count": 2,
   "metadata": {},
   "outputs": [],
   "source": [
    "cal = datasets.fetch_california_housing()\n",
    "cal_data=cal.data\n",
    "cal_target=cal.target"
   ]
  },
  {
   "cell_type": "markdown",
   "metadata": {},
   "source": [
    "## Task 1. Regression. (3%)"
   ]
  },
  {
   "cell_type": "markdown",
   "metadata": {},
   "source": [
    "### Task 1.a Linear model vs. GBT model"
   ]
  },
  {
   "cell_type": "code",
   "execution_count": 3,
   "metadata": {
    "pycharm": {
     "name": "#%%\n"
    }
   },
   "outputs": [
    {
     "name": "stdout",
     "output_type": "stream",
     "text": [
      "With a linear regression model, 55.30% of the data fit the model\n",
      "\n",
      "\n",
      "With a gradient boosting tree regression model, 66.99% of the data fit the model\n"
     ]
    }
   ],
   "source": [
    "linreg = sklearn.linear_model.LinearRegression()\n",
    "\n",
    "linreg.fit(cal_data,cal_target)\n",
    "\n",
    "##score on the second half, use r2 scoring for regression\n",
    "linear_performance = cross_val_score(linreg,cal_data,cal_target, cv=5, scoring='r2').mean()\n",
    "\n",
    "\n",
    "print(\"With a linear regression model, %.2f%% of the data fit the model\"%(linear_performance*100))\n",
    "\n",
    "print(\"\")\n",
    "print(\"\")\n",
    "\n",
    "gbtreg = GradientBoostingRegressor()\n",
    "gbtreg.fit(cal_data,cal_target)\n",
    "gbt_performance = cross_val_score(gbtreg,cal_data,cal_target, cv=5, scoring='r2').mean()\n",
    "\n",
    "print(\"With a gradient boosting tree regression model, %.2f%% of the data fit the model\"%(gbt_performance*100))"
   ]
  },
  {
   "cell_type": "markdown",
   "metadata": {},
   "source": [
    "### Task 1.b Search for better parameters in GBT model"
   ]
  },
  {
   "cell_type": "code",
   "execution_count": null,
   "metadata": {
    "pycharm": {
     "name": "#%%\n"
    }
   },
   "outputs": [],
   "source": [
    "print(\"\")\n",
    "parameters={'learning_rate':[.1,.15,.2,.25],'max_depth':[2,3,4,5],'n_estimators':[50,80,100,200]}\n",
    "gs_model=GridSearchCV(GradientBoostingRegressor(),parameters,scoring=\"r2\",cv=5)\n",
    "gs_model.fit(cal_data,cal_target)\n",
    "print(\"\")\n",
    "print(gs_model.cv_results_)\n",
    "print(\"\")\n",
    "print(\"\")\n",
    "print(gs_model.best_score_)\n",
    "print(\"\")\n",
    "print(gs_model.best_params_)\n"
   ]
  },
  {
   "cell_type": "markdown",
   "metadata": {},
   "source": [
    "### Task 1.c "
   ]
  },
  {
   "cell_type": "code",
   "execution_count": null,
   "metadata": {},
   "outputs": [],
   "source": [
    "print(\"At a glance, GBT is a better choice than linear regression. The ideal learning rate seems to be higher than the default. The number of estimators is ideally less, at 80 and the ideal max depth is 4. \")"
   ]
  },
  {
   "cell_type": "markdown",
   "metadata": {},
   "source": [
    "## Task 2. Classification. (3%)"
   ]
  },
  {
   "cell_type": "code",
   "execution_count": null,
   "metadata": {},
   "outputs": [],
   "source": [
    "##use binarized version of target values\n",
    "y = [i > 2 for i in cal.target]"
   ]
  },
  {
   "cell_type": "markdown",
   "metadata": {},
   "source": [
    "### Task 2.a Logistic regression vs. GBT"
   ]
  },
  {
   "cell_type": "code",
   "execution_count": null,
   "metadata": {},
   "outputs": [],
   "source": [
    "logreg = LogisticRegression()\n",
    "logreg.fit(cal_data,y)\n",
    "\n",
    "logistic_performance = cross_val_score(logreg,cal_data,y, cv=5, scoring='accuracy').mean()\n",
    "print(\"With a gradient boosting tree regression model, %.2f%% of the data fit the model\"%(logistic_performance*100))\n",
    "gbt_class=GradientBoostingClassifier()\n",
    "gbt_class.fit(cal_data,y)\n",
    "gbt_class_performance = cross_val_score(gbt_class,cal_data,y, cv=5, scoring='accuracy').mean()\n",
    "print(\"With a gradient boosting tree regression model, %.2f%% of the data fit the model\"%(gbt_class_performance*100))"
   ]
  },
  {
   "cell_type": "markdown",
   "metadata": {},
   "source": [
    "### Task 2.b Search for optimal parameters in GBT model"
   ]
  },
  {
   "cell_type": "code",
   "execution_count": null,
   "metadata": {},
   "outputs": [],
   "source": [
    "parameters={'learning_rate':[.25,.05,.1,.15],'max_depth':[1,2,3,4],'n_estimators':[25,50,80,100]}\n",
    "gs_model=GridSearchCV(GradientBoostingClassifier(),parameters,scoring=\"accuracy\",cv=5)\n",
    "gs_model.fit(cal_data[:3000],y[:3000])\n",
    "print(\"\")\n",
    "print(gs_model.cv_results_)\n",
    "print(\"\")\n",
    "print(\"\")\n",
    "print(gs_model.best_score_)\n",
    "print(\"\")\n",
    "print(gs_model.best_params_)\n",
    "\n"
   ]
  },
  {
   "cell_type": "markdown",
   "metadata": {},
   "source": [
    "### Task 2.c SVM\n"
   ]
  },
  {
   "cell_type": "code",
   "execution_count": null,
   "metadata": {
    "pycharm": {
     "name": "#%%\n"
    }
   },
   "outputs": [],
   "source": [
    "#decreasing C will prevent overfitting. Increasing C promotes underfitting\n",
    "parameters={'C':[200,300,500,400,1000],'penalty':['l1','l2'],'tol':[1e-2,1e-3,1e-4,1e-5]}\n",
    "gs_model=GridSearchCV(LinearSVC(),parameters,scoring=\"roc_auc\",cv=5)\n",
    "gs_model.fit(cal_data[:5000],y[:5000])\n",
    "print(\"\")\n",
    "print(gs_model.cv_results_)\n",
    "print(\"\")\n",
    "print(\"\")\n",
    "print(gs_model.best_score_)\n",
    "print(\"\")\n",
    "print(gs_model.best_params_)\n",
    "\n",
    "\n",
    "\n"
   ]
  }
 ],
 "metadata": {
  "kernelspec": {
   "display_name": "Python 3",
   "language": "python",
   "name": "python3"
  },
  "language_info": {
   "codemirror_mode": {
    "name": "ipython",
    "version": 3
   },
   "file_extension": ".py",
   "mimetype": "text/x-python",
   "name": "python",
   "nbconvert_exporter": "python",
   "pygments_lexer": "ipython3",
   "version": "3.8.5"
  }
 },
 "nbformat": 4,
 "nbformat_minor": 4
}
